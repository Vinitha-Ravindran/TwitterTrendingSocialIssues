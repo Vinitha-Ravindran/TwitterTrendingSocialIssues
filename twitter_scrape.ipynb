{
 "cells": [
  {
   "cell_type": "code",
   "execution_count": null,
   "metadata": {},
   "outputs": [],
   "source": [
    "import tweepy\n",
    "import json\n",
    "import urllib.request, urllib.error, urllib.parse\n",
    "import pandas as pd \n",
    "import re \n",
    "import html\n",
    "import os\n",
    "from ast import literal_eval\n",
    "import nltk\n",
    "from nltk.corpus import stopwords"
   ]
  },
  {
   "cell_type": "code",
   "execution_count": null,
   "metadata": {},
   "outputs": [],
   "source": [
    "# set working directory"
   ]
  },
  {
   "cell_type": "code",
   "execution_count": null,
   "metadata": {},
   "outputs": [],
   "source": [
    "ckey = 'kKnjuObMw1bz8IvbOocURToLc'\n",
    "csecret = 'P9UEWGYsnWHMAkkRPo9q5loClRLBTpNArE8GdO8uIrZIK5VDWG'\n",
    "atoken = '3147064200-CZf14apOjmZG5t6D5bqEChPGMvzwWrryPQTw8bW'\n",
    "asecret = 'RbEQLFGTqkVSFjRWr7k8vE3FRnLSjioUGqUVDPrOVd6Ux'\n",
    "\n",
    "# the authentication process for tweepy\n",
    "auth = tweepy.OAuthHandler(ckey, csecret)\n",
    "auth.set_access_token(atoken, asecret)\n",
    "\n",
    "api = tweepy.API(auth)\n",
    "\n",
    "print(api)"
   ]
  },
  {
   "cell_type": "code",
   "execution_count": null,
   "metadata": {},
   "outputs": [],
   "source": [
    "import pandas as pd\n",
    "\n",
    "df=pd.read_csv('C:/Users/vinit/Desktop/Purdue/Subject/Fall Mod-2/Analyzing Unstrutured Data MGMT 590-049/class/tweets.csv')\n",
    "df\n",
    "news_list=df['news'].values.T.tolist()\n",
    "news_list=list(set(news_list))\n",
    "news_list\n",
    "\n"
   ]
  },
  {
   "cell_type": "code",
   "execution_count": null,
   "metadata": {},
   "outputs": [],
   "source": [
    "maxid = 999999999999999999"
   ]
  },
  {
   "cell_type": "code",
   "execution_count": null,
   "metadata": {},
   "outputs": [],
   "source": [
    "import time\n",
    "tweet_text = []\n",
    "tweet_id = []\n",
    "tweet_created = []\n",
    "name_list=[]\n",
    "\n",
    "\n",
    "for name in news_list:\n",
    "    \n",
    "    #name= val+'airlines'+' '+ '-filter:retweets'  \n",
    "    print(name)\n",
    "\n",
    "    for i in range(0 , 10):\n",
    "\n",
    "        if i == 0:\n",
    "            #get the initial tweets:\n",
    "            tweets = api.search( q = name , count = 100, lang='en', tweet_mode='extended')\n",
    "\n",
    "        else:\n",
    "\n",
    "            tweets = api.search(q = name, count = 100, max_id = maxid, lang='en', tweet_mode='extended')\n",
    "\n",
    "        maxid = 99999999999999999999\n",
    "\n",
    "        for tweet in tweets:\n",
    "            if tweet.id < maxid:\n",
    "                maxid = tweet.id\n",
    "\n",
    "                #extract the text from these tweets\n",
    "                name_list.append(name)\n",
    "                tweet_text.append(tweet.full_text)\n",
    "                tweet_id.append(tweet.id)\n",
    "                tweet_created.append(str(tweet.created_at))\n",
    "\n",
    "        maxid = maxid - 1\n",
    "    time.sleep(500)\n",
    "    "
   ]
  },
  {
   "cell_type": "code",
   "execution_count": null,
   "metadata": {},
   "outputs": [],
   "source": [
    "print(len(name_list), len(tweet_text), len(tweet_id), len(tweet_created))\n",
    "print(tweet_text)"
   ]
  },
  {
   "cell_type": "code",
   "execution_count": null,
   "metadata": {},
   "outputs": [],
   "source": [
    "outputdf=pd.DataFrame(list(zip(name_list, tweet_text,tweet_id,tweet_created)),columns=['news','tweet_text','tweet_id','tweet_date'])\n",
    "\n",
    "outputdf.to_csv('tweets_output.csv')"
   ]
  },
  {
   "cell_type": "code",
   "execution_count": null,
   "metadata": {},
   "outputs": [],
   "source": [
    "tweet_list = outputdf['tweet_text'].tolist()"
   ]
  },
  {
   "cell_type": "code",
   "execution_count": null,
   "metadata": {},
   "outputs": [],
   "source": [
    "for i in range(len(tweet_list)):\n",
    "    tweet_list[i] = re.sub(r\"http\\S+\", \"\", tweet_list[i])"
   ]
  },
  {
   "cell_type": "code",
   "execution_count": null,
   "metadata": {},
   "outputs": [],
   "source": [
    "for i in range(len(tweet_list)):\n",
    "    tweet_list[i] = html.unescape(tweet_list[i])"
   ]
  },
  {
   "cell_type": "code",
   "execution_count": null,
   "metadata": {},
   "outputs": [],
   "source": [
    "\n",
    "tweet_list = [i.replace('\\n','') for i in tweet_list]\n",
    "tweet_list = [i.replace('\\t','') for i in tweet_list]\n",
    "\n"
   ]
  }
 ],
 "metadata": {
  "kernelspec": {
   "display_name": "Python 3",
   "language": "python",
   "name": "python3"
  },
  "language_info": {
   "codemirror_mode": {
    "name": "ipython",
    "version": 3
   },
   "file_extension": ".py",
   "mimetype": "text/x-python",
   "name": "python",
   "nbconvert_exporter": "python",
   "pygments_lexer": "ipython3",
   "version": "3.7.4"
  }
 },
 "nbformat": 4,
 "nbformat_minor": 2
}
